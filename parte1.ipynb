{
 "cells": [
  {
   "attachments": {},
   "cell_type": "markdown",
   "metadata": {},
   "source": [
    "### Ejercicio 1"
   ]
  },
  {
   "cell_type": "code",
   "execution_count": 13,
   "metadata": {},
   "outputs": [],
   "source": [
    "import math\n",
    "def calcular_tiempo(segundos: int):\n",
    "    horas = segundos / 3600\n",
    "    horas_display = 0\n",
    "    minutos_display = 0\n",
    "    segundos_display = 0\n",
    "    \n",
    "    horas_display = int(horas)\n",
    "    parte_decimal = horas - horas_display\n",
    "    if parte_decimal != 0:\n",
    "        minutos = parte_decimal * 60\n",
    "        minutos_display = int(minutos)\n",
    "        parte_decimal = minutos - minutos_display\n",
    "        if parte_decimal != 0:\n",
    "            segundos_display = int(parte_decimal * 60)\n",
    "    \n",
    "    \n",
    "    print(f'Horas: {horas_display}, Minutos: {minutos_display}, Segundos: {segundos_display}')"
   ]
  },
  {
   "cell_type": "code",
   "execution_count": 14,
   "metadata": {},
   "outputs": [
    {
     "name": "stdout",
     "output_type": "stream",
     "text": [
      "Horas: 0, Minutos: 45, Segundos: 43\n"
     ]
    }
   ],
   "source": [
    "calcular_tiempo(2743)"
   ]
  },
  {
   "attachments": {},
   "cell_type": "markdown",
   "metadata": {},
   "source": [
    "### Ejercicio 2"
   ]
  },
  {
   "cell_type": "code",
   "execution_count": 72,
   "metadata": {},
   "outputs": [],
   "source": [
    "def mostrar_patrones(numero: int, caracter: str):\n",
    "    if numero > 20 or numero < 1:\n",
    "        print('el numero debe estar dentro del rango de 1-20')\n",
    "        return 0\n",
    "    \n",
    "    # Generamos los patrones\n",
    "    patron1 = []\n",
    "    patron2 = []\n",
    "    patron3 = []\n",
    "    patron4 = []\n",
    "    for i in range(0, numero):\n",
    "        guia = [x for x in range(0, numero)]\n",
    "        patron1.append([caracter if x <= i else ' ' for x in guia])\n",
    "        patron2.append([caracter if x >= i else ' ' for x in guia])\n",
    "    \n",
    "    patron3 = patron1[:: -1]\n",
    "    patron4 = patron2[:: -1]\n",
    "    \n",
    "    # Mostrar patrones\n",
    "    for i, item in enumerate(patron1):\n",
    "        print(f'{\"\".join(item)}\\t{\"\".join(patron2[i])}\\t{\"\".join(patron3[i])}\\t{\"\".join(patron4[i])}')\n",
    "    return 1"
   ]
  },
  {
   "cell_type": "code",
   "execution_count": 76,
   "metadata": {},
   "outputs": [
    {
     "name": "stdout",
     "output_type": "stream",
     "text": [
      "*    \t*****\t*****\t    *\n",
      "**   \t ****\t**** \t   **\n",
      "***  \t  ***\t***  \t  ***\n",
      "**** \t   **\t**   \t ****\n",
      "*****\t    *\t*    \t*****\n"
     ]
    }
   ],
   "source": [
    "resp = mostrar_patrones(5, '*')"
   ]
  },
  {
   "attachments": {},
   "cell_type": "markdown",
   "metadata": {},
   "source": [
    "### Ejercicio 3"
   ]
  },
  {
   "cell_type": "code",
   "execution_count": 96,
   "metadata": {},
   "outputs": [],
   "source": [
    "from datetime import datetime\n",
    "def calcular_edad(dia: int, mes: int, anio: int):\n",
    "    fecha_nacimiento = datetime.strptime(f'{anio}-{mes}-{dia}', '%Y-%m-%d')\n",
    "    hoy = datetime.now()\n",
    "    \n",
    "    dif = hoy - fecha_nacimiento\n",
    "    dias = dif.days\n",
    "    \n",
    "    anios = dias / 365\n",
    "    anios_display = 0\n",
    "    meses_display = 0\n",
    "    dias_display = 0\n",
    "    \n",
    "    anios_display = int(anios)\n",
    "    parte_decimal = anios - anios_display\n",
    "    if parte_decimal != 0:\n",
    "        meses = parte_decimal * 12\n",
    "        meses_display = int(meses)\n",
    "        parte_decimal = meses - meses_display\n",
    "        if parte_decimal != 0:\n",
    "            dias_display = int(parte_decimal * 30)\n",
    "    \n",
    "    \n",
    "    print(f'Años: {anios_display}, Meses: {meses_display}, Dias: {dias_display}')\n",
    "    "
   ]
  },
  {
   "cell_type": "code",
   "execution_count": 97,
   "metadata": {},
   "outputs": [
    {
     "name": "stdout",
     "output_type": "stream",
     "text": [
      "Años: 25, Meses: 3, Dias: 29\n"
     ]
    }
   ],
   "source": [
    "calcular_edad(27, 10, 1997)"
   ]
  },
  {
   "attachments": {},
   "cell_type": "markdown",
   "metadata": {},
   "source": [
    "### Ejercicio 4"
   ]
  },
  {
   "cell_type": "code",
   "execution_count": 79,
   "metadata": {},
   "outputs": [],
   "source": [
    "def conv_tupla_string(elementos: tuple):\n",
    "    convertidos = [str(item) for item in elementos]\n",
    "    cadena = \"\".join(convertidos)\n",
    "    print(cadena)"
   ]
  },
  {
   "cell_type": "code",
   "execution_count": 81,
   "metadata": {},
   "outputs": [
    {
     "name": "stdout",
     "output_type": "stream",
     "text": [
      "10a40570\n"
     ]
    }
   ],
   "source": [
    "conv_tupla_string((10, 'a', 40, 5, 70))"
   ]
  },
  {
   "attachments": {},
   "cell_type": "markdown",
   "metadata": {},
   "source": [
    "### Ejercicio 5"
   ]
  },
  {
   "cell_type": "code",
   "execution_count": 82,
   "metadata": {},
   "outputs": [],
   "source": [
    "def eliminar_vacios(elementos: list):\n",
    "    sin_vacios = [item for item in elementos if len(item) > 0]\n",
    "    print(sin_vacios)"
   ]
  },
  {
   "cell_type": "code",
   "execution_count": 83,
   "metadata": {},
   "outputs": [
    {
     "name": "stdout",
     "output_type": "stream",
     "text": [
      "[('X',), ('a', 'b'), ('a', 'b', 'c'), 'd']\n"
     ]
    }
   ],
   "source": [
    "eliminar_vacios([(), (), ('X',), ('a', 'b'), ('a', 'b', 'c'), ('d')])"
   ]
  },
  {
   "attachments": {},
   "cell_type": "markdown",
   "metadata": {},
   "source": [
    "### Ejercicio 6"
   ]
  },
  {
   "cell_type": "code",
   "execution_count": 92,
   "metadata": {},
   "outputs": [],
   "source": [
    "import numpy as np\n",
    "\n",
    "def promediar_tuplas(elementos: tuple):\n",
    "    tupla = tuple(np.array(item).mean() for item in elementos)\n",
    "    print(tupla)"
   ]
  },
  {
   "cell_type": "code",
   "execution_count": 93,
   "metadata": {},
   "outputs": [
    {
     "name": "stdout",
     "output_type": "stream",
     "text": [
      "(10.5, 44.0, 58.0)\n"
     ]
    }
   ],
   "source": [
    "promediar_tuplas(((10, 10, 10, 12), (30, 45, 56, 45), (81, 80, 39, 32)))"
   ]
  }
 ],
 "metadata": {
  "kernelspec": {
   "display_name": "datascience",
   "language": "python",
   "name": "python3"
  },
  "language_info": {
   "codemirror_mode": {
    "name": "ipython",
    "version": 3
   },
   "file_extension": ".py",
   "mimetype": "text/x-python",
   "name": "python",
   "nbconvert_exporter": "python",
   "pygments_lexer": "ipython3",
   "version": "3.9.16"
  },
  "orig_nbformat": 4,
  "vscode": {
   "interpreter": {
    "hash": "52a20c8062b715b24105558ff0ede0236b4f9de85b423164451e8d23c8dcd07a"
   }
  }
 },
 "nbformat": 4,
 "nbformat_minor": 2
}
