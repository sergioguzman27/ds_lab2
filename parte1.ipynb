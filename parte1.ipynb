{
 "cells": [
  {
   "attachments": {},
   "cell_type": "markdown",
   "metadata": {},
   "source": [
    "### Ejercicio 1"
   ]
  },
  {
   "cell_type": "code",
   "execution_count": 1,
   "metadata": {},
   "outputs": [],
   "source": [
    "import math\n",
    "def calcular_tiempo(segundos: int):\n",
    "    horas = segundos / 3600\n",
    "    horas_display = 0\n",
    "    minutos_display = 0\n",
    "    segundos_display = 0\n",
    "    \n",
    "    horas_display = int(horas)\n",
    "    parte_decimal = horas - horas_display\n",
    "    if parte_decimal != 0:\n",
    "        minutos = parte_decimal * 60\n",
    "        minutos_display = int(minutos)\n",
    "        parte_decimal = minutos - minutos_display\n",
    "        if parte_decimal != 0:\n",
    "            segundos_display = int(parte_decimal * 60)\n",
    "    \n",
    "    \n",
    "    print(f'Horas: {horas_display}, Minutos: {minutos_display}, Segundos: {segundos_display}')"
   ]
  },
  {
   "cell_type": "code",
   "execution_count": 2,
   "metadata": {},
   "outputs": [
    {
     "name": "stdout",
     "output_type": "stream",
     "text": [
      "Horas: 0, Minutos: 45, Segundos: 43\n"
     ]
    }
   ],
   "source": [
    "calcular_tiempo(2743)"
   ]
  },
  {
   "attachments": {},
   "cell_type": "markdown",
   "metadata": {},
   "source": [
    "### Ejercicio 2"
   ]
  },
  {
   "cell_type": "code",
   "execution_count": 3,
   "metadata": {},
   "outputs": [],
   "source": [
    "def mostrar_patrones(numero: int, caracter: str):\n",
    "    if numero > 20 or numero < 1:\n",
    "        print('el numero debe estar dentro del rango de 1-20')\n",
    "        return 0\n",
    "    \n",
    "    # Generamos los patrones\n",
    "    patron1 = []\n",
    "    patron2 = []\n",
    "    patron3 = []\n",
    "    patron4 = []\n",
    "    for i in range(0, numero):\n",
    "        guia = [x for x in range(0, numero)]\n",
    "        patron1.append([caracter if x <= i else ' ' for x in guia])\n",
    "        patron2.append([caracter if x >= i else ' ' for x in guia])\n",
    "    \n",
    "    patron3 = patron1[:: -1]\n",
    "    patron4 = patron2[:: -1]\n",
    "    \n",
    "    # Mostrar patrones\n",
    "    for i, item in enumerate(patron1):\n",
    "        print(f'{\"\".join(item)}\\t{\"\".join(patron2[i])}\\t{\"\".join(patron3[i])}\\t{\"\".join(patron4[i])}')\n",
    "    return 1"
   ]
  },
  {
   "cell_type": "code",
   "execution_count": 4,
   "metadata": {},
   "outputs": [
    {
     "name": "stdout",
     "output_type": "stream",
     "text": [
      "*    \t*****\t*****\t    *\n",
      "**   \t ****\t**** \t   **\n",
      "***  \t  ***\t***  \t  ***\n",
      "**** \t   **\t**   \t ****\n",
      "*****\t    *\t*    \t*****\n"
     ]
    }
   ],
   "source": [
    "resp = mostrar_patrones(5, '*')"
   ]
  },
  {
   "attachments": {},
   "cell_type": "markdown",
   "metadata": {},
   "source": [
    "### Ejercicio 3"
   ]
  },
  {
   "cell_type": "code",
   "execution_count": 5,
   "metadata": {},
   "outputs": [],
   "source": [
    "from datetime import datetime\n",
    "def calcular_edad(dia: int, mes: int, anio: int):\n",
    "    fecha_nacimiento = datetime.strptime(f'{anio}-{mes}-{dia}', '%Y-%m-%d')\n",
    "    hoy = datetime.now()\n",
    "    \n",
    "    dif = hoy - fecha_nacimiento\n",
    "    dias = dif.days\n",
    "    \n",
    "    anios = dias / 365\n",
    "    anios_display = 0\n",
    "    meses_display = 0\n",
    "    dias_display = 0\n",
    "    \n",
    "    anios_display = int(anios)\n",
    "    parte_decimal = anios - anios_display\n",
    "    if parte_decimal != 0:\n",
    "        meses = parte_decimal * 12\n",
    "        meses_display = int(meses)\n",
    "        parte_decimal = meses - meses_display\n",
    "        if parte_decimal != 0:\n",
    "            dias_display = int(parte_decimal * 30)\n",
    "    \n",
    "    \n",
    "    print(f'Años: {anios_display}, Meses: {meses_display}, Dias: {dias_display}')\n",
    "    "
   ]
  },
  {
   "cell_type": "code",
   "execution_count": 6,
   "metadata": {},
   "outputs": [
    {
     "name": "stdout",
     "output_type": "stream",
     "text": [
      "Años: 25, Meses: 4, Dias: 3\n"
     ]
    }
   ],
   "source": [
    "calcular_edad(27, 10, 1997)"
   ]
  },
  {
   "attachments": {},
   "cell_type": "markdown",
   "metadata": {},
   "source": [
    "### Ejercicio 4"
   ]
  },
  {
   "cell_type": "code",
   "execution_count": 7,
   "metadata": {},
   "outputs": [],
   "source": [
    "def conv_tupla_string(elementos: tuple):\n",
    "    convertidos = [str(item) for item in elementos]\n",
    "    cadena = \"\".join(convertidos)\n",
    "    print(cadena)"
   ]
  },
  {
   "cell_type": "code",
   "execution_count": 8,
   "metadata": {},
   "outputs": [
    {
     "name": "stdout",
     "output_type": "stream",
     "text": [
      "10a40570\n"
     ]
    }
   ],
   "source": [
    "conv_tupla_string((10, 'a', 40, 5, 70))"
   ]
  },
  {
   "attachments": {},
   "cell_type": "markdown",
   "metadata": {},
   "source": [
    "### Ejercicio 5"
   ]
  },
  {
   "cell_type": "code",
   "execution_count": 9,
   "metadata": {},
   "outputs": [],
   "source": [
    "def eliminar_vacios(elementos: list):\n",
    "    sin_vacios = [item for item in elementos if len(item) > 0]\n",
    "    print(sin_vacios)"
   ]
  },
  {
   "cell_type": "code",
   "execution_count": 10,
   "metadata": {},
   "outputs": [
    {
     "name": "stdout",
     "output_type": "stream",
     "text": [
      "[('X',), ('a', 'b'), ('a', 'b', 'c'), 'd']\n"
     ]
    }
   ],
   "source": [
    "eliminar_vacios([(), (), ('X',), ('a', 'b'), ('a', 'b', 'c'), ('d')])"
   ]
  },
  {
   "attachments": {},
   "cell_type": "markdown",
   "metadata": {},
   "source": [
    "### Ejercicio 6"
   ]
  },
  {
   "cell_type": "code",
   "execution_count": 11,
   "metadata": {},
   "outputs": [],
   "source": [
    "import numpy as np\n",
    "\n",
    "def promediar_tuplas(elementos: tuple):\n",
    "    tupla = tuple(np.array(item).mean() for item in elementos)\n",
    "    print(tupla)"
   ]
  },
  {
   "cell_type": "code",
   "execution_count": 12,
   "metadata": {},
   "outputs": [
    {
     "name": "stdout",
     "output_type": "stream",
     "text": [
      "(10.5, 44.0, 58.0)\n"
     ]
    }
   ],
   "source": [
    "promediar_tuplas(((10, 10, 10, 12), (30, 45, 56, 45), (81, 80, 39, 32)))"
   ]
  },
  {
   "attachments": {},
   "cell_type": "markdown",
   "metadata": {},
   "source": [
    "### Ejercicio 7"
   ]
  },
  {
   "cell_type": "code",
   "execution_count": 19,
   "metadata": {},
   "outputs": [],
   "source": [
    "facturas = {}\n",
    "opcion = 0\n",
    "cantidad_cobrada = 0\n",
    "cantidad_pendiente = 0"
   ]
  },
  {
   "cell_type": "code",
   "execution_count": 20,
   "metadata": {},
   "outputs": [
    {
     "name": "stdout",
     "output_type": "stream",
     "text": [
      "-------------------------------------\n",
      "Bienvenido!\n",
      "1. Añadir nueva factura\n",
      "2. Pagar factura\n",
      "3. Salir\n",
      "-------------------------------------\n",
      "Factura añadida, las facturas guardadas son\n",
      "{1111: 180.0}\n",
      "Cantidad cobrada 0\n",
      "Cantidad pendiente 180.0\n",
      "\n",
      "\n",
      "-------------------------------------\n",
      "Bienvenido!\n",
      "1. Añadir nueva factura\n",
      "2. Pagar factura\n",
      "3. Salir\n",
      "-------------------------------------\n",
      "Factura añadida, las facturas guardadas son\n",
      "{1111: 180.0, 2222: 80.0}\n",
      "Cantidad cobrada 0\n",
      "Cantidad pendiente 260.0\n",
      "\n",
      "\n",
      "-------------------------------------\n",
      "Bienvenido!\n",
      "1. Añadir nueva factura\n",
      "2. Pagar factura\n",
      "3. Salir\n",
      "-------------------------------------\n",
      "Cantidad cobrada 80.0\n",
      "Cantidad pendiente 180.0\n",
      "\n",
      "\n",
      "-------------------------------------\n",
      "Bienvenido!\n",
      "1. Añadir nueva factura\n",
      "2. Pagar factura\n",
      "3. Salir\n",
      "-------------------------------------\n",
      "Factura añadida, las facturas guardadas son\n",
      "{1111: 180.0, 3333: 10.0}\n",
      "Cantidad cobrada 80.0\n",
      "Cantidad pendiente 190.0\n",
      "\n",
      "\n",
      "-------------------------------------\n",
      "Bienvenido!\n",
      "1. Añadir nueva factura\n",
      "2. Pagar factura\n",
      "3. Salir\n",
      "-------------------------------------\n",
      "\n",
      "\n"
     ]
    }
   ],
   "source": [
    "while opcion != 3:\n",
    "    print('-------------------------------------')\n",
    "    print('Bienvenido!')\n",
    "    print('1. Añadir nueva factura')\n",
    "    print('2. Pagar factura')\n",
    "    print('3. Salir')\n",
    "    print('-------------------------------------')\n",
    "    \n",
    "    opcion = int(input('Seleccione una de las opciones del menu'))\n",
    "    \n",
    "    if opcion == 1:\n",
    "        no_factura = int(input('Ingrese el numero de factura'))\n",
    "        coste = float(input('Ingrese el coste de la factura'))\n",
    "        \n",
    "        facturas[no_factura] = coste\n",
    "        cantidad_pendiente += coste\n",
    "        print('Factura añadida, las facturas guardadas son')\n",
    "        print(facturas)\n",
    "        \n",
    "        print(f'Cantidad cobrada {cantidad_cobrada}')\n",
    "        print(f'Cantidad pendiente {cantidad_pendiente}')\n",
    "        \n",
    "    if opcion == 2:\n",
    "        no_factura = int(input('Ingrese el numero de factura'))\n",
    "        coste = facturas.pop(no_factura)\n",
    "        cantidad_pendiente -= coste\n",
    "        cantidad_cobrada += coste\n",
    "        \n",
    "        print(f'Cantidad cobrada {cantidad_cobrada}')\n",
    "        print(f'Cantidad pendiente {cantidad_pendiente}')\n",
    "        \n",
    "    if opcion == 3:\n",
    "        pass\n",
    "    \n",
    "    if opcion not in [1,2,3]:\n",
    "        print('Elija una opcion valida')\n",
    "    \n",
    "    print('\\n')"
   ]
  },
  {
   "attachments": {},
   "cell_type": "markdown",
   "metadata": {},
   "source": [
    "### Ejercicio 8"
   ]
  },
  {
   "cell_type": "code",
   "execution_count": 31,
   "metadata": {},
   "outputs": [],
   "source": [
    "from random import randint\n",
    "def generar_cartas():\n",
    "    tipos = ['T', 'C', 'P', 'E']\n",
    "    numeros = [1,2,3,4,5,6,7,8,9,10,11,12,13]\n",
    "    \n",
    "    mazo = []\n",
    "    for tipo in tipos:\n",
    "        for numero in numeros:\n",
    "            mazo.append(f'{tipo}{numero}')\n",
    "        # mazo.append([f'{tipo}{numero}' for numero in numeros])\n",
    "        \n",
    "    return mazo"
   ]
  },
  {
   "cell_type": "code",
   "execution_count": 25,
   "metadata": {},
   "outputs": [],
   "source": [
    "def generar_sets(mazo):\n",
    "    max = len(mazo)\n",
    "    cantidad_set1 = randint(1, max)\n",
    "    cantidad_set2 = randint(1, max)\n",
    "    \n",
    "    inicio_set1 = randint(0, max - cantidad_set1 - 1)\n",
    "    inicio_set2 = randint(0, max - cantidad_set2 - 1)\n",
    "    \n",
    "    set1 = mazo[inicio_set1 : inicio_set1 + cantidad_set1]\n",
    "    set2 = mazo[inicio_set2 : inicio_set2 + cantidad_set2]\n",
    "    \n",
    "    return set1, set2"
   ]
  },
  {
   "cell_type": "code",
   "execution_count": 33,
   "metadata": {},
   "outputs": [
    {
     "name": "stdout",
     "output_type": "stream",
     "text": [
      "['T1', 'T2', 'T3', 'T4', 'T5', 'T6', 'T7', 'T8', 'T9', 'T10', 'T11', 'T12', 'T13', 'C1', 'C2', 'C3', 'C4', 'C5', 'C6', 'C7', 'C8', 'C9', 'C10', 'C11', 'C12', 'C13', 'P1', 'P2', 'P3', 'P4', 'P5', 'P6', 'P7', 'P8', 'P9', 'P10', 'P11', 'P12', 'P13', 'E1', 'E2', 'E3', 'E4', 'E5', 'E6', 'E7', 'E8', 'E9', 'E10', 'E11', 'E12', 'E13']\n",
      "52\n"
     ]
    }
   ],
   "source": [
    "mazo = generar_cartas()\n",
    "print(mazo)\n",
    "print(len(mazo))"
   ]
  },
  {
   "cell_type": "code",
   "execution_count": 34,
   "metadata": {},
   "outputs": [
    {
     "name": "stdout",
     "output_type": "stream",
     "text": [
      "set1\n",
      " ['T2', 'T3', 'T4', 'T5', 'T6', 'T7', 'T8', 'T9', 'T10', 'T11']\n",
      "set2\n",
      " ['T5', 'T6', 'T7', 'T8', 'T9', 'T10', 'T11', 'T12', 'T13', 'C1', 'C2', 'C3', 'C4', 'C5', 'C6', 'C7', 'C8', 'C9', 'C10', 'C11', 'C12', 'C13', 'P1', 'P2', 'P3', 'P4', 'P5', 'P6', 'P7', 'P8', 'P9', 'P10', 'P11', 'P12', 'P13', 'E1', 'E2']\n"
     ]
    }
   ],
   "source": [
    "set1, set2 = generar_sets(mazo)\n",
    "print(f'set1\\n {set1}')\n",
    "print(f'set2\\n {set2}')"
   ]
  },
  {
   "cell_type": "code",
   "execution_count": null,
   "metadata": {},
   "outputs": [],
   "source": []
  }
 ],
 "metadata": {
  "kernelspec": {
   "display_name": "datascience",
   "language": "python",
   "name": "python3"
  },
  "language_info": {
   "codemirror_mode": {
    "name": "ipython",
    "version": 3
   },
   "file_extension": ".py",
   "mimetype": "text/x-python",
   "name": "python",
   "nbconvert_exporter": "python",
   "pygments_lexer": "ipython3",
   "version": "3.9.16"
  },
  "orig_nbformat": 4,
  "vscode": {
   "interpreter": {
    "hash": "52a20c8062b715b24105558ff0ede0236b4f9de85b423164451e8d23c8dcd07a"
   }
  }
 },
 "nbformat": 4,
 "nbformat_minor": 2
}
